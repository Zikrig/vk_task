{
 "cells": [
  {
   "cell_type": "markdown",
   "metadata": {},
   "source": [
    "Здесь я попытался решить задачу безо всякого разделения на группы, просто угадывая ранг по фичам. Наудивление accuracy 0.93, однако это не то, что требовалось сделать."
   ]
  },
  {
   "cell_type": "code",
   "execution_count": 1,
   "metadata": {},
   "outputs": [],
   "source": [
    "import pandas as pd\n",
    "import numpy as np\n",
    "from sklearn.model_selection import train_test_split, GroupShuffleSplit\n",
    "from sklearn.ensemble import ExtraTreesClassifier\n",
    "from sklearn import svm, linear_model\n",
    "from sklearn.metrics import classification_report\n",
    "from pickle import dump\n",
    "import os.path\n",
    "\n",
    "df = pd.read_csv('intern_task.csv')\n",
    "# df = pd.read_csv('it.csv')\n",
    "\n",
    "y = df['rank']\n",
    "X = df\n",
    "X.drop(columns=['rank', 'query_id'])\n",
    "X_train, X_test, y_train, y_test = train_test_split(\n",
    "        X, y, test_size=0.1, random_state=705)\n"
   ]
  },
  {
   "cell_type": "code",
   "execution_count": 3,
   "metadata": {},
   "outputs": [
    {
     "name": "stdout",
     "output_type": "stream",
     "text": [
      "0.9258267448780073\n",
      "[1 0 1 ... 1 0 0]\n",
      "              precision    recall  f1-score   support\n",
      "\n",
      "           0       0.96      1.00      0.98     12156\n",
      "           1       0.89      0.94      0.92      7574\n",
      "           2       0.87      0.73      0.79      3235\n",
      "           3       0.54      0.20      0.30       405\n",
      "           4       0.65      0.38      0.48       156\n",
      "\n",
      "    accuracy                           0.93     23526\n",
      "   macro avg       0.78      0.65      0.69     23526\n",
      "weighted avg       0.92      0.93      0.92     23526\n",
      "\n",
      "0.9780887545755714\n"
     ]
    }
   ],
   "source": [
    "# clf = svm.SVC(kernel='poly', C=.1)\n",
    "from sklearn.ensemble import RandomForestClassifier\n",
    "from sklearn.metrics import ndcg_score\n",
    "etc = RandomForestClassifier(\n",
    "    n_estimators=4,\n",
    "    )\n",
    "etc.fit(X_train, y_train)\n",
    "score = etc.score(X_test, y_test)\n",
    "print(score)\n",
    "\n",
    "res = etc.predict(X_test)\n",
    "print(res)\n",
    "s = classification_report(y_test, res)\n",
    "print(s)\n",
    "\n",
    "ndc = ndcg_score([y_test], [res])\n",
    "print(ndc)"
   ]
  }
 ],
 "metadata": {
  "kernelspec": {
   "display_name": "Python 3",
   "language": "python",
   "name": "python3"
  },
  "language_info": {
   "codemirror_mode": {
    "name": "ipython",
    "version": 3
   },
   "file_extension": ".py",
   "mimetype": "text/x-python",
   "name": "python",
   "nbconvert_exporter": "python",
   "pygments_lexer": "ipython3",
   "version": "3.9.11"
  }
 },
 "nbformat": 4,
 "nbformat_minor": 2
}
